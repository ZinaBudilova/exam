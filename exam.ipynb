{
 "cells": [
  {
   "cell_type": "markdown",
   "metadata": {},
   "source": [
    "Вариант 4: Дан код на языке Python, выравнивание в котором выполнено при помощи пробелов, все операторы записаны в одну строку, классы не используются. Представьте этот код в виде дерева по следующему алгоритму. Корнем дерева является фиктивная вершина. Все строки кода с одинаковым отступом являются вершинами одного уровня. Родителем строки является последняя перед ней строка с уровнем отступа на один меньше, при этом считается не число пробелов, а факт увеличения их количества. Потомки идут в том порядке, в котором они записаны в файле.\n",
    "По заданному имени функции проверьте, является ли данная функция рекурсивной. В общем случае, условные конструкции, циклы и проч. не могут препятствовать вызову функции."
   ]
  },
  {
   "cell_type": "code",
   "execution_count": 1,
   "metadata": {},
   "outputs": [],
   "source": [
    "example = 'import random, math\\ndef random_mult(my_list):\\n    summa = 0\\n    for i in range(30):\\n        summa += math.log(my_list[i])\\n    return math.exp(summa)'"
   ]
  },
  {
   "cell_type": "code",
   "execution_count": 30,
   "metadata": {},
   "outputs": [],
   "source": [
    "def spaceCounter(code): #считаем отступы строчек кода\n",
    "    code_dict = {}\n",
    "    code_list = code.split('\\n')\n",
    "    for line in code_list:\n",
    "        space_counter = 0\n",
    "        if line[0] == ' ':\n",
    "            for i in range(len(line) - 1):\n",
    "                if line[i] == ' ':\n",
    "                    space_counter += 1\n",
    "                else:\n",
    "                    break\n",
    "        code_dict[line] = space_counter\n",
    "    return code_dict            "
   ]
  },
  {
   "cell_type": "code",
   "execution_count": 60,
   "metadata": {},
   "outputs": [
    {
     "data": {
      "text/plain": [
       "{'import random, math': 0,\n",
       " 'def random_mult(my_list):': 0,\n",
       " '    summa = 0': 4,\n",
       " '    for i in range(30):': 4,\n",
       " '        summa += math.log(my_list[i])': 8,\n",
       " '    return math.exp(summa)': 4}"
      ]
     },
     "execution_count": 60,
     "metadata": {},
     "output_type": "execute_result"
    }
   ],
   "source": [
    "spaceCounter(example)"
   ]
  },
  {
   "cell_type": "code",
   "execution_count": 59,
   "metadata": {},
   "outputs": [],
   "source": [
    "code_dict = spaceCounter(example)"
   ]
  },
  {
   "cell_type": "code",
   "execution_count": 87,
   "metadata": {},
   "outputs": [],
   "source": [
    "def makeATree(code_dict):\n",
    "    tree = {'root': (-1, [])} #-1 - отступы, а в списке пишем потомков\n",
    "    \n",
    "    numbers = {} #номера строчек\n",
    "    i = 0\n",
    "    for elem in list(code_dict.keys()):\n",
    "        numbers[elem] = i\n",
    "        i += 1\n",
    "    numbers['root'] = -1\n",
    "\n",
    "    for line in code_dict: #создаём вершины\n",
    "        tree[line] = (code_dict[line], [])\n",
    "        \n",
    "    values = reversed(sorted(set(code_dict.values()))) #упорядоченный список длин отступов\n",
    "    \n",
    "    for v in values:\n",
    "        for son in code_dict:\n",
    "            if code_dict[son] == v:\n",
    "                best_mother = 'root'\n",
    "                \n",
    "                #ищем предка\n",
    "                for mother in code_dict.keys():\n",
    "                    if code_dict[mother] < code_dict[son]: #у предка меньше отступов\n",
    "                        if numbers[mother] < numbers[son]: #предок раньше потомка\n",
    "                            if numbers[mother] > numbers[best_mother]: #из возможных предков выбираем последнего\n",
    "                                best_mother = mother               \n",
    "                tree[best_mother][1].append(son) #предку записываем потомков\n",
    "    return tree"
   ]
  },
  {
   "cell_type": "code",
   "execution_count": 88,
   "metadata": {},
   "outputs": [
    {
     "data": {
      "text/plain": [
       "{'root': (-1, ['import random, math', 'def random_mult(my_list):']),\n",
       " 'import random, math': (0, []),\n",
       " 'def random_mult(my_list):': (0,\n",
       "  ['    summa = 0', '    for i in range(30):', '    return math.exp(summa)']),\n",
       " '    summa = 0': (4, []),\n",
       " '    for i in range(30):': (4, ['        summa += math.log(my_list[i])']),\n",
       " '        summa += math.log(my_list[i])': (8, []),\n",
       " '    return math.exp(summa)': (4, [])}"
      ]
     },
     "execution_count": 88,
     "metadata": {},
     "output_type": "execute_result"
    }
   ],
   "source": [
    "makeATree(code_dict)"
   ]
  },
  {
   "cell_type": "code",
   "execution_count": 89,
   "metadata": {},
   "outputs": [],
   "source": [
    "tree = makeATree(code_dict)"
   ]
  },
  {
   "cell_type": "code",
   "execution_count": 151,
   "metadata": {},
   "outputs": [],
   "source": [
    "def recursionTest(tree, name):\n",
    "    occurrences = []\n",
    "    for dot in tree:\n",
    "        if name in dot:\n",
    "            occurrences.append(dot) #собрали где встречается имя функции \n",
    "    if len(occurrences) < 2: \n",
    "        return False #если такой функции в коде нет, или если она вызывается только 1 раз, то она точно не рекурсивная\n",
    "    elif 'def' not in occurrences[0]:\n",
    "        return False #если у функции не было def в самом начале, то это и не функция, а какой-то другой текст\n",
    "    else:\n",
    "        return Test(tree, name, occurrences[0]) #танцуем от первой встречи функции - а она, естественно, там же, где def\n",
    "        \n",
    "def Test(tree, name, dot):\n",
    "    #чтобы сказать, что функция рекурсивная, нам нужно, чтобы она была вызвана внутри самого своего описания (блока с def)\n",
    "    #надо проверить её потомков\n",
    "    for son in tree[dot][1]:\n",
    "        if name in son:\n",
    "            print('ура рекурсия')\n",
    "            return True\n",
    "        elif len(tree[son][1]) > 0: #если у потомка есть потомки\n",
    "            Test(tree, name, son) #теперь танцуем от потомка\n",
    "    return False #если ничего подобного не нашли"
   ]
  },
  {
   "cell_type": "code",
   "execution_count": 152,
   "metadata": {},
   "outputs": [
    {
     "data": {
      "text/plain": [
       "False"
      ]
     },
     "execution_count": 152,
     "metadata": {},
     "output_type": "execute_result"
    }
   ],
   "source": [
    "recursionTest(tree, 'random_mult')"
   ]
  },
  {
   "cell_type": "code",
   "execution_count": 138,
   "metadata": {},
   "outputs": [
    {
     "data": {
      "text/plain": [
       "False"
      ]
     },
     "execution_count": 138,
     "metadata": {},
     "output_type": "execute_result"
    }
   ],
   "source": [
    "recursionTest(tree, 'math')"
   ]
  },
  {
   "cell_type": "code",
   "execution_count": 109,
   "metadata": {},
   "outputs": [],
   "source": [
    "#для примера рекурсивной функции возьмём факториал\n",
    "r_code = 'def fac(n):\\n    if n == 0:\\n        return 1\\n    return fac(n-1) * n\\nprint(fac(5))'"
   ]
  },
  {
   "cell_type": "code",
   "execution_count": 110,
   "metadata": {},
   "outputs": [],
   "source": [
    "r_dict = spaceCounter(r_code)\n",
    "r_tree = makeATree(r_dict)"
   ]
  },
  {
   "cell_type": "code",
   "execution_count": 111,
   "metadata": {},
   "outputs": [
    {
     "data": {
      "text/plain": [
       "{'root': (-1, ['def fac(n):', 'print(fac(5))']),\n",
       " 'def fac(n):': (0, ['    if n == 0:', '    return fac(n-1) * n']),\n",
       " '    if n == 0:': (4, ['        return 1']),\n",
       " '        return 1': (8, []),\n",
       " '    return fac(n-1) * n': (4, []),\n",
       " 'print(fac(5))': (0, [])}"
      ]
     },
     "execution_count": 111,
     "metadata": {},
     "output_type": "execute_result"
    }
   ],
   "source": [
    "r_tree"
   ]
  },
  {
   "cell_type": "code",
   "execution_count": 136,
   "metadata": {},
   "outputs": [
    {
     "name": "stdout",
     "output_type": "stream",
     "text": [
      "ура рекурсия\n"
     ]
    },
    {
     "data": {
      "text/plain": [
       "True"
      ]
     },
     "execution_count": 136,
     "metadata": {},
     "output_type": "execute_result"
    }
   ],
   "source": [
    "recursionTest(r_tree, 'fac')"
   ]
  },
  {
   "cell_type": "code",
   "execution_count": 153,
   "metadata": {},
   "outputs": [
    {
     "data": {
      "text/plain": [
       "False"
      ]
     },
     "execution_count": 153,
     "metadata": {},
     "output_type": "execute_result"
    }
   ],
   "source": [
    "recursionTest(r_tree, 'return')"
   ]
  },
  {
   "cell_type": "markdown",
   "metadata": {},
   "source": [
    "У меня ещё осталось время, поэтому напишу ещё функцию, как бы нам код из файла прочитать в строку и убрать лишние \\n (если вдруг оно нужно)."
   ]
  },
  {
   "cell_type": "code",
   "execution_count": 149,
   "metadata": {},
   "outputs": [],
   "source": [
    "import re\n",
    "\n",
    "def codeReading(filename):\n",
    "    with open(filename, encoding='utf-8') as f:\n",
    "        code = f.read()\n",
    "        code = re.sub(r'\\n{2,}', '\\n', code)\n",
    "        return code"
   ]
  }
 ],
 "metadata": {
  "kernelspec": {
   "display_name": "Python 3.7 (tensorflow)",
   "language": "python",
   "name": "tensorflow"
  },
  "language_info": {
   "codemirror_mode": {
    "name": "ipython",
    "version": 3
   },
   "file_extension": ".py",
   "mimetype": "text/x-python",
   "name": "python",
   "nbconvert_exporter": "python",
   "pygments_lexer": "ipython3",
   "version": "3.7.7"
  }
 },
 "nbformat": 4,
 "nbformat_minor": 4
}
